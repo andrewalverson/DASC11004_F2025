{
 "cells": [
  {
   "cell_type": "code",
   "execution_count": null,
   "id": "48b9c4f4",
   "metadata": {},
   "outputs": [],
   "source": [
    "# create variable with path to 'presidents.csv'\n",
    "input_file = '../data/presidents.csv'\n",
    "\n",
    "# write specified columns to a new data file\n",
    "outfile = open(\"out.txt\", \"w\")\n",
    "\n",
    "# open and read the file\n",
    "with open(input_file, 'r') as prez_file:\n",
    "    # read it line by line\n",
    "    for line in prez_file:\n",
    "        # strip the newline characters\n",
    "        line = line.rstrip()\n",
    "\n",
    "        # split each line into a list of columns, delimiter == ','\\\n",
    "        columns = line.split(',')\n",
    "        print(columns[0], columns[4], columns[-1])\n",
    "        outline = ','.join([columns[0], columns[4], columns[-1]])\n",
    "        outfile.write(outline)\n"
   ]
  },
  {
   "cell_type": "code",
   "execution_count": null,
   "id": "45dbffd8",
   "metadata": {},
   "outputs": [],
   "source": []
  }
 ],
 "metadata": {
  "kernelspec": {
   "display_name": "Python 3",
   "language": "python",
   "name": "python3"
  },
  "language_info": {
   "codemirror_mode": {
    "name": "ipython",
    "version": 3
   },
   "file_extension": ".py",
   "mimetype": "text/x-python",
   "name": "python",
   "nbconvert_exporter": "python",
   "pygments_lexer": "ipython3",
   "version": "3.11.5"
  }
 },
 "nbformat": 4,
 "nbformat_minor": 5
}
