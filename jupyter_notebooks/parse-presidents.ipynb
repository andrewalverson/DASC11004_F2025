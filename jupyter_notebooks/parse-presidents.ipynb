{
 "cells": [
  {
   "cell_type": "code",
   "execution_count": null,
   "id": "48b9c4f4",
   "metadata": {},
   "outputs": [],
   "source": [
    "from collections import defaultdict\n",
    "\n",
    "# create variable with path to 'presidents.csv'\n",
    "input_file = '../data/presidents.csv'\n",
    "\n",
    "# write specified columns to a new data file\n",
    "outfile = open(\"out.txt\", \"w\")\n",
    "\n",
    "# create some dictionaries, using defaultdict so we don't get key errors\n",
    "parties     = defaultdict(str) # key = president's name, value is their party affiliation\n",
    "party_count = defaultdict(int)\n",
    "presidents  = defaultdict()\n",
    "\n",
    "# open and read the file\n",
    "with open(input_file, 'r') as prez_file:\n",
    "    # skip the first line\n",
    "    next(prez_file)\n",
    "\n",
    "    # read it line by line\n",
    "    for line in prez_file:\n",
    "        # strip the newline characters\n",
    "        line = line.rstrip()\n",
    "\n",
    "        # split each line into a list of columns, delimiter == ','\\\n",
    "        columns  = line.split(',')\n",
    "        pres_num = columns[0]\n",
    "        name     = columns[1].strip()\n",
    "        party    = columns[5].strip()\n",
    "\n",
    "        # build our parties dictionary\n",
    "        parties[name] = party\n",
    "        presidents[pres_num] = name\n",
    "\n",
    "# get good stuff, individually, from our dictionary\n",
    "print(presidents.get('13'))\n",
    "print(presidents['16'])\n",
    "print(presidents.get('48', \"TBD\"))\n",
    "\n",
    "# get all the stuff from our dictionary\n",
    "for num in presidents.keys():\n",
    "    print(f\"President number {num} was {presidents[num]}\")\n",
    "\n",
    "\n",
    "\"\"\"\n",
    "print(columns[0], columns[4], columns[-2])\n",
    "outline = ','.join([columns[0], columns[4], columns[-2]])\n",
    "outline += '\\n'\n",
    "outfile.write(outline)\n",
    "\"\"\"\n",
    "outfile.close()\n",
    "\n",
    "\n"
   ]
  },
  {
   "cell_type": "code",
   "execution_count": null,
   "id": "6115c20e",
   "metadata": {},
   "outputs": [],
   "source": [
    "# another way to loop over a dictionary\n",
    "for num, name in presidents.items():\n",
    "    print(f\"President number {num} was {name}\")"
   ]
  },
  {
   "cell_type": "code",
   "execution_count": null,
   "id": "d239207a",
   "metadata": {},
   "outputs": [],
   "source": []
  }
 ],
 "metadata": {
  "kernelspec": {
   "display_name": "Python 3",
   "language": "python",
   "name": "python3"
  },
  "language_info": {
   "codemirror_mode": {
    "name": "ipython",
    "version": 3
   },
   "file_extension": ".py",
   "mimetype": "text/x-python",
   "name": "python",
   "nbconvert_exporter": "python",
   "pygments_lexer": "ipython3",
   "version": "3.11.5"
  }
 },
 "nbformat": 4,
 "nbformat_minor": 5
}
