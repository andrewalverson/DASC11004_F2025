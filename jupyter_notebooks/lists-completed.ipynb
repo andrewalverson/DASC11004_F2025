{
 "cells": [
  {
   "cell_type": "markdown",
   "metadata": {},
   "source": [
    "## Working with lists"
   ]
  },
  {
   "cell_type": "code",
   "execution_count": 1,
   "metadata": {},
   "outputs": [],
   "source": [
    "# declare an empty string\n",
    "bob = ''\n",
    "\n",
    "# declare an empty list\n",
    "beatles = []"
   ]
  },
  {
   "cell_type": "markdown",
   "metadata": {},
   "source": [
    "### What kind of variable is this?"
   ]
  },
  {
   "cell_type": "code",
   "execution_count": 2,
   "metadata": {},
   "outputs": [
    {
     "name": "stdout",
     "output_type": "stream",
     "text": [
      "<class 'str'>\n",
      "<class 'list'>\n"
     ]
    }
   ],
   "source": [
    "print(type(bob))\n",
    "print(type(beatles))"
   ]
  },
  {
   "cell_type": "markdown",
   "metadata": {},
   "source": [
    "### Populate and print a list"
   ]
  },
  {
   "cell_type": "code",
   "execution_count": 15,
   "metadata": {},
   "outputs": [
    {
     "name": "stdout",
     "output_type": "stream",
     "text": [
      "['John', 'Paul', 'George', 'Ringo', 'Stuart']\n"
     ]
    }
   ],
   "source": [
    "beatles = [\"John\", \"Paul\", \"George\", \"Ringo\", \"Stuart\"]\n",
    "print(beatles)"
   ]
  },
  {
   "cell_type": "markdown",
   "metadata": {
    "tags": []
   },
   "source": [
    "### Calculate and print the length of a list"
   ]
  },
  {
   "cell_type": "code",
   "execution_count": 4,
   "metadata": {
    "tags": []
   },
   "outputs": [
    {
     "name": "stdout",
     "output_type": "stream",
     "text": [
      "The number of members in the beatles is 5\n"
     ]
    }
   ],
   "source": [
    "# calculate and print the number of beatles\n",
    "print(f\"The number of members in the beatles is {len(beatles)}\")\n"
   ]
  },
  {
   "cell_type": "markdown",
   "metadata": {},
   "source": [
    "### Print an item in a list \n",
    "   \n",
    "   _see PowerPoint slides_"
   ]
  },
  {
   "cell_type": "code",
   "execution_count": 9,
   "metadata": {
    "tags": []
   },
   "outputs": [
    {
     "name": "stdout",
     "output_type": "stream",
     "text": [
      "['John', 'Paul', 'George', 'Ringo', 'Stuart']\n",
      "\n",
      "John\n",
      "a bunch of ways to grab poor Stuart:\n",
      "Stuart\n",
      "Stuart\n",
      "Stuart\n",
      "\n",
      "let's get George\n",
      "George\n",
      "George\n"
     ]
    }
   ],
   "source": [
    "# remind ourselves of the list\n",
    "print(beatles)\n",
    "print()\n",
    "\n",
    "# print the first beatle (John)\n",
    "print(beatles[0])\n",
    "\n",
    "# many ways to print the last Beatle\n",
    "print(\"a bunch of ways to grab poor Stuart:\")\n",
    "print(beatles[4])\n",
    "print(beatles[-1])\n",
    "print(beatles[len(beatles) - 1])\n",
    "print()\n",
    "\n",
    "# many ways to print George\n",
    "print(\"let's get George\")\n",
    "print(beatles[2])\n",
    "print(beatles[-3])"
   ]
  },
  {
   "cell_type": "markdown",
   "metadata": {
    "tags": []
   },
   "source": [
    "### Remove an item from a list"
   ]
  },
  {
   "cell_type": "code",
   "execution_count": 16,
   "metadata": {
    "tags": []
   },
   "outputs": [
    {
     "name": "stdout",
     "output_type": "stream",
     "text": [
      "['John', 'Paul', 'George', 'Ringo']\n",
      "Stuart\n"
     ]
    }
   ],
   "source": [
    "# Remove the last item in the list (goodbye, Stuart)\n",
    "stu = beatles.pop()\n",
    "\n",
    "# What happened to the Beatles? It was modified in place.\n",
    "print(beatles)\n",
    "print(stu)"
   ]
  },
  {
   "cell_type": "markdown",
   "metadata": {},
   "source": [
    "### Make a new list"
   ]
  },
  {
   "cell_type": "code",
   "execution_count": 17,
   "metadata": {},
   "outputs": [],
   "source": [
    "# make a list called 'stones' with the Rolling Stones (Mick, Ron, and Keith)\n",
    "stones = [\"Mick\", \"Ron\", \"Keith\"]"
   ]
  },
  {
   "cell_type": "markdown",
   "metadata": {},
   "source": [
    "### Add two lists"
   ]
  },
  {
   "cell_type": "code",
   "execution_count": 19,
   "metadata": {
    "tags": []
   },
   "outputs": [
    {
     "name": "stdout",
     "output_type": "stream",
     "text": [
      "the two groups separately: ['John', 'Paul', 'George', 'Ringo'], ['Mick', 'Ron', 'Keith']\n",
      "7 members in our supergroup: ['John', 'Paul', 'George', 'Ringo', 'Mick', 'Ron', 'Keith']\n"
     ]
    }
   ],
   "source": [
    "# print the lists separately\n",
    "print(\"the two groups separately: {}, {}\".format(beatles, stones))\n",
    "\n",
    "# add two lists together\n",
    "supergroup = beatles + stones\n",
    "\n",
    "# print our new list\n",
    "print(f\"{len(supergroup)} members in our supergroup: {supergroup}\")"
   ]
  },
  {
   "cell_type": "markdown",
   "metadata": {},
   "source": [
    "### Make some new lists"
   ]
  },
  {
   "cell_type": "code",
   "execution_count": 20,
   "metadata": {},
   "outputs": [
    {
     "name": "stdout",
     "output_type": "stream",
     "text": [
      "['jackie', 'tito', 'marlon']\n"
     ]
    }
   ],
   "source": [
    "# start fresh with new groups\n",
    "jackson5 = ['jackie', 'tito', 'marlon', 'michael']\n",
    "destiny  = ['beyonce', 'kelly', 'michelle']\n",
    "top40    = ['taylorswift', 'billystrings']\n",
    "\n",
    "# first remove Michael :(\n",
    "jackson5.pop()\n",
    "print(jackson5)"
   ]
  },
  {
   "cell_type": "markdown",
   "metadata": {},
   "source": [
    "### Growing a list with `extend()`"
   ]
  },
  {
   "cell_type": "code",
   "execution_count": 21,
   "metadata": {
    "tags": []
   },
   "outputs": [
    {
     "name": "stdout",
     "output_type": "stream",
     "text": [
      "['jackie', 'tito', 'marlon']\n",
      "['beyonce', 'kelly', 'michelle']\n",
      "\n",
      "Here's the Jackson 5 after after `extend(destiny)`: ['jackie', 'tito', 'marlon', 'beyonce', 'kelly', 'michelle']\n"
     ]
    }
   ],
   "source": [
    "# print our lists\n",
    "print(jackson5)\n",
    "print(destiny)\n",
    "print()\n",
    "\n",
    "# use extend() to add Destiny's Child to the Jackson 5\n",
    "jackson5.extend(destiny)\n",
    "\n",
    "print(f\"Here's the Jackson 5 after after `extend(destiny)`: {jackson5}\")"
   ]
  },
  {
   "cell_type": "markdown",
   "metadata": {},
   "source": [
    ">so `extend()` modifies a list in place, it doesn't return a value (i.e., a new list)\n",
    "\n",
    ">if you want a new list, add them together (`new_list = list1 + list2`) instead of extending\n"
   ]
  },
  {
   "cell_type": "code",
   "execution_count": 23,
   "metadata": {
    "tags": []
   },
   "outputs": [
    {
     "name": "stdout",
     "output_type": "stream",
     "text": [
      "['jackie', 'tito', 'marlon', 'beyonce', 'kelly', 'michelle', 'beyonce', 'kelly', 'michelle']\n"
     ]
    }
   ],
   "source": [
    "# use \"+\" if you want to create a new list\n",
    "super = jackson5 + destiny\n",
    "print(super)\n",
    "\n",
    "# what happened?"
   ]
  },
  {
   "cell_type": "markdown",
   "metadata": {},
   "source": [
    "### Growing a list with `append()`"
   ]
  },
  {
   "cell_type": "code",
   "execution_count": 25,
   "metadata": {
    "tags": []
   },
   "outputs": [
    {
     "name": "stdout",
     "output_type": "stream",
     "text": [
      "num items in num: 3\n",
      "num items in let: 3\n",
      "\n",
      "after appending let to num: [1, 2, 3, ['a', 'b', 'c']]\n"
     ]
    }
   ],
   "source": [
    "# use `append()` to add lists a different way\n",
    "num = [1, 2, 3]\n",
    "let = ['a', 'b', 'c']\n",
    "print(f\"num items in num: {len(num)}\")\n",
    "print(f\"num items in let: {len(let)}\")\n",
    "print()\n",
    "\n",
    "num.append(let)\n",
    "print(f\"after appending let to num: {num}\")"
   ]
  },
  {
   "cell_type": "markdown",
   "metadata": {},
   "source": [
    ">What did append do?\n",
    "\n",
    ">It adds a single item, even if that item is a list."
   ]
  },
  {
   "cell_type": "code",
   "execution_count": null,
   "metadata": {
    "tags": []
   },
   "outputs": [
    {
     "name": "stdout",
     "output_type": "stream",
     "text": [
      "4\n",
      "['a', 'b', 'c']\n",
      "\n",
      "indexing in to get 'c'\n",
      "c\n",
      "c\n"
     ]
    }
   ],
   "source": [
    "# How long is this list?\n",
    "print(len(num))\n",
    "\n",
    "# Find and print the list of letters\n",
    "print(num[-1])\n",
    "print()\n",
    "\n",
    "# Find and print 'c'\n",
    "print(\"indexing in to get 'c'\")\n",
    "print(num[-1][-1])\n",
    "print(num[3][2])"
   ]
  },
  {
   "cell_type": "markdown",
   "metadata": {},
   "source": [
    "### Strings are lists of characters (_see PowerPoint slides_)"
   ]
  },
  {
   "cell_type": "code",
   "execution_count": 34,
   "metadata": {},
   "outputs": [
    {
     "name": "stdout",
     "output_type": "stream",
     "text": [
      "23\n",
      "first letter is: A\n",
      "first exon: ATGCCAGT\n",
      "intron: ttccggaa\n"
     ]
    },
    {
     "data": {
      "text/plain": [
       "\"\\nprint(f'second exon: {}')\\nprint(f'concatenated exons: {}')\\nprint(f'start codon (first three nucleotides): {}')\\nprint(f'stop codon (last three nucleotides): {}')\\n\""
      ]
     },
     "execution_count": 34,
     "metadata": {},
     "output_type": "execute_result"
    }
   ],
   "source": [
    "gene = 'ATGCCAGTttccggaaGTTCTAA'\n",
    "# hint: first exon is 8 characters, intron is 8 characters, last exon is 7 characters\n",
    "print(len(gene))\n",
    "\n",
    "print(f'first letter is: {gene[0]}')\n",
    "\n",
    "print(f'first exon: {gene[0:8]}')\n",
    "print(f'intron: {gene[8:16]}')\n",
    "\n",
    "\"\"\"\n",
    "print(f'second exon: {}')\n",
    "print(f'concatenated exons: {}')\n",
    "print(f'start codon (first three nucleotides): {}')\n",
    "print(f'stop codon (last three nucleotides): {}')\n",
    "\"\"\""
   ]
  },
  {
   "cell_type": "code",
   "execution_count": 35,
   "metadata": {},
   "outputs": [
    {
     "name": "stdout",
     "output_type": "stream",
     "text": [
      "John\n",
      "Paul\n",
      "George\n",
      "Ringo\n"
     ]
    }
   ],
   "source": [
    "for old_man in beatles:\n",
    "    print(old_man)"
   ]
  }
 ],
 "metadata": {
  "kernelspec": {
   "display_name": "Python 3",
   "language": "python",
   "name": "python3"
  },
  "language_info": {
   "codemirror_mode": {
    "name": "ipython",
    "version": 3
   },
   "file_extension": ".py",
   "mimetype": "text/x-python",
   "name": "python",
   "nbconvert_exporter": "python",
   "pygments_lexer": "ipython3",
   "version": "3.11.5"
  }
 },
 "nbformat": 4,
 "nbformat_minor": 4
}
