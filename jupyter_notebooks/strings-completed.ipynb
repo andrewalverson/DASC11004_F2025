{
 "cells": [
  {
   "cell_type": "markdown",
   "metadata": {},
   "source": [
    "## Understanding `print()`\n",
    "\n",
    "  - THIS SECTION IS ALL ABOUT PRINTING"
   ]
  },
  {
   "cell_type": "code",
   "execution_count": 7,
   "metadata": {
    "tags": []
   },
   "outputs": [
    {
     "name": "stdout",
     "output_type": "stream",
     "text": [
      "hello world\n",
      "hello world\n"
     ]
    }
   ],
   "source": [
    "# hello world\n",
    "print('hello world')\n",
    "print(\"hello world\")"
   ]
  },
  {
   "cell_type": "markdown",
   "metadata": {},
   "source": [
    "### Printing quotation marks\n",
    "\n",
    "##### Write two print statements that give the following output:\n",
    "\n",
    "She said, 'hello world'\n",
    "\n",
    "She said, \"hello world\"\n"
   ]
  },
  {
   "cell_type": "code",
   "execution_count": 11,
   "metadata": {
    "tags": []
   },
   "outputs": [
    {
     "name": "stdout",
     "output_type": "stream",
     "text": [
      "She said, 'hello world'\n",
      "She said, 'hello world'\n",
      "She said, \"hello world\"\n"
     ]
    }
   ],
   "source": [
    "print(\"She said, 'hello world'\")\n",
    "print('She said, \\'hello world\\'')\n",
    "print('She said, \"hello world\"')\n"
   ]
  },
  {
   "cell_type": "markdown",
   "metadata": {},
   "source": [
    "### Store and print a variable"
   ]
  },
  {
   "cell_type": "code",
   "execution_count": 18,
   "metadata": {
    "tags": []
   },
   "outputs": [
    {
     "name": "stdout",
     "output_type": "stream",
     "text": [
      "bob\n",
      "bob dylan\n",
      "bob dylanTHE END\n",
      "this doesn't look so good\n",
      "bobdylan\n",
      "bob dylan is really old\n",
      "bob dylanis really old\n"
     ]
    }
   ],
   "source": [
    "# define some strings\n",
    "first = 'bob'\n",
    "last = 'dylan'\n",
    "\n",
    "# concatenate those strings\n",
    "full = first + last\n",
    "\n",
    "# print the strings\n",
    "print(first)\n",
    "print(first, last)\n",
    "# print without a line break\n",
    "print(first, last, end='THE END\\n')\n",
    "print(\"this doesn't look so good\")\n",
    "print(full)\n",
    "# how do I get spaces?\n",
    "print(first, last, \"is really old\")\n",
    "print(first + ' ' + last + \"is really old\")"
   ]
  },
  {
   "cell_type": "markdown",
   "metadata": {},
   "source": [
    "### Get the length of a string"
   ]
  },
  {
   "cell_type": "code",
   "execution_count": 20,
   "metadata": {
    "tags": []
   },
   "outputs": [
    {
     "name": "stdout",
     "output_type": "stream",
     "text": [
      "the length of the string bobdylan is 8 characters\n",
      "the length of the string is: 8 characters\n"
     ]
    }
   ],
   "source": [
    "# the long (but readable) way\n",
    "name_length = len(full)\n",
    "print(\"the length of the string\", full, \"is\", name_length, \"characters\")\n",
    "\n",
    "# a more concise way to do it, functions within functions\n",
    "print(\"the length of the string is:\", len(full), \"characters\")"
   ]
  },
  {
   "cell_type": "markdown",
   "metadata": {},
   "source": [
    "### Print strings and numbers"
   ]
  },
  {
   "cell_type": "code",
   "execution_count": 25,
   "metadata": {
    "tags": []
   },
   "outputs": [
    {
     "name": "stdout",
     "output_type": "stream",
     "text": [
      "the length of the name is 8\n",
      "the length of the name is 8\n",
      "the length of the string bobdylan is 8\n",
      "the length of the string bobdylan is 8\n"
     ]
    }
   ],
   "source": [
    "# print strings and integers\n",
    "print(\"the length of the name is\", name_length)\n",
    "print(\"the length of the name is \" + str(name_length))\n",
    "\n",
    "# print strings\n",
    "\n",
    "# formatted print\n",
    "print(f'the length of the string {full} is {name_length}')\n",
    "print('the length of the string {} is {}'.format(full, len(full)))"
   ]
  },
  {
   "cell_type": "markdown",
   "metadata": {},
   "source": [
    "### If x = 7 and y = \"7\", write two print statements to print \"77\" and \"14\" as the output"
   ]
  },
  {
   "cell_type": "code",
   "execution_count": 26,
   "metadata": {},
   "outputs": [
    {
     "name": "stdout",
     "output_type": "stream",
     "text": [
      "77\n",
      "14\n"
     ]
    }
   ],
   "source": [
    "x = 7\n",
    "y = \"7\"\n",
    "\n",
    "# print 77\n",
    "print(str(x) + y)\n",
    "\n",
    "# print 14\n",
    "print(x + int(y))"
   ]
  },
  {
   "cell_type": "markdown",
   "metadata": {},
   "source": [
    "## Some operations on strings"
   ]
  },
  {
   "cell_type": "code",
   "execution_count": 2,
   "metadata": {
    "tags": []
   },
   "outputs": [
    {
     "ename": "NameError",
     "evalue": "name 'first' is not defined",
     "output_type": "error",
     "traceback": [
      "\u001b[0;31m---------------------------------------------------------------------------\u001b[0m",
      "\u001b[0;31mNameError\u001b[0m                                 Traceback (most recent call last)",
      "Cell \u001b[0;32mIn[2], line 2\u001b[0m\n\u001b[1;32m      1\u001b[0m \u001b[38;5;66;03m# methods to change the case of a string\u001b[39;00m\n\u001b[0;32m----> 2\u001b[0m \u001b[38;5;28mprint\u001b[39m(\u001b[43mfirst\u001b[49m\u001b[38;5;241m.\u001b[39mupper())\n\u001b[1;32m      3\u001b[0m \u001b[38;5;28mprint\u001b[39m(first\u001b[38;5;241m.\u001b[39mlower())\n\u001b[1;32m      5\u001b[0m \u001b[38;5;66;03m# make sure first and last are formatted properly\u001b[39;00m\n",
      "\u001b[0;31mNameError\u001b[0m: name 'first' is not defined"
     ]
    }
   ],
   "source": [
    "# methods to change the case of a string\n",
    "print(first.upper())\n",
    "print(first.lower())\n",
    "\n",
    "# make sure first and last are formatted properly\n",
    "first = first.lower()\n",
    "first = first.capitalize()\n",
    "\n",
    "last = last.lower().capitalize()\n",
    "\n",
    "print(first, last)\n"
   ]
  },
  {
   "cell_type": "markdown",
   "metadata": {},
   "source": [
    "### Problem #1: Write a program that asks for the user's name and age, then prints a personalized greeting using string formatting (`.format`).\n",
    "\n",
    "For *Andy* and *32*, the output would be:\n",
    "\n",
    "Hello, Andy! You are 32 years old.\n"
   ]
  },
  {
   "cell_type": "code",
   "execution_count": null,
   "metadata": {},
   "outputs": [
    {
     "name": "stdout",
     "output_type": "stream",
     "text": [
      "Hello, Andy! You are 32 years old.\n"
     ]
    }
   ],
   "source": [
    "name = input('Enter your name: ')\n",
    "age = input('Enter your age: ')\n",
    "\n",
    "print(\"Hello, {}! You are {} years old.\".format(name.lower().capitalize(), age))"
   ]
  },
  {
   "cell_type": "markdown",
   "metadata": {},
   "source": [
    "### Problem #2: Ask the user for the number of decimal places, then print the following output. If the user enters 3, the output will be: \n",
    "\n",
    "The value of pi is 3.142"
   ]
  },
  {
   "cell_type": "code",
   "execution_count": 10,
   "metadata": {},
   "outputs": [
    {
     "name": "stdout",
     "output_type": "stream",
     "text": [
      "The value of pi is 3.1415926536\n"
     ]
    }
   ],
   "source": [
    "import math\n",
    "\n",
    "# get number of decimal from the user\n",
    "num_dec = input()\n",
    "\n",
    "# print output to specified number of decimal places\n",
    "print(f\"The value of pi is {round(math.pi, int(num_dec))}\")\n",
    "# print(len('141592653589793'))"
   ]
  },
  {
   "cell_type": "markdown",
   "metadata": {},
   "source": [
    "### Problem #3: Ask the user for a big number. If the user enters 1000000 (one million), the output will be:\n",
    "\n",
    "This sure is a big number: 1,000,000\n",
    "\n",
    "This sure is a big number: 1.000000e+06"
   ]
  },
  {
   "cell_type": "code",
   "execution_count": 14,
   "metadata": {},
   "outputs": [
    {
     "name": "stdout",
     "output_type": "stream",
     "text": [
      "This sure is a big number: 1,000,000\n",
      "This sure is a big number: 1.000000e+06\n"
     ]
    }
   ],
   "source": [
    "big_num = input()\n",
    "big_num = int(big_num)\n",
    "\n",
    "print(f\"This sure is a big number: {big_num:,d}\")\n",
    "print(f\"This sure is a big number: {big_num:e}\")"
   ]
  },
  {
   "cell_type": "markdown",
   "metadata": {},
   "source": []
  },
  {
   "cell_type": "markdown",
   "metadata": {},
   "source": [
    "### Problem #4: Tip Calculator (stand alone Python script called `tip_calculator.py`, run from the command line)\n",
    "\n",
    "Ask the user for the bill amount (float) and tip percentage (integer). Calculate the tip and total, then print them neatly.\n",
    "\n",
    "Enter the bill amount: `42.75`\n",
    "\n",
    "Enter the tip percentage: `18`\n",
    "\n",
    "Bill: `$42.75`\n",
    "\n",
    "Tip (18%): `$7.70`\n",
    "\n",
    "\\--------------------\n",
    "\n",
    "Total: `$50.45`\n"
   ]
  },
  {
   "cell_type": "code",
   "execution_count": null,
   "metadata": {},
   "outputs": [],
   "source": [
    "# problem #4 code: standalone script\n"
   ]
  },
  {
   "cell_type": "markdown",
   "metadata": {},
   "source": [
    "### Problem #5: Ask the user for two numbers as input. Multiply them, then print the answer to two decimal places as a formatted string.\n",
    "\n",
    "For **1.7** and **2.5**, the output would be:\n",
    "\n",
    "The product of 1.7 and 2.5 is 4.31."
   ]
  },
  {
   "cell_type": "code",
   "execution_count": null,
   "metadata": {},
   "outputs": [],
   "source": [
    "# problem #5 code"
   ]
  }
 ],
 "metadata": {
  "kernelspec": {
   "display_name": "Python 3",
   "language": "python",
   "name": "python3"
  },
  "language_info": {
   "codemirror_mode": {
    "name": "ipython",
    "version": 3
   },
   "file_extension": ".py",
   "mimetype": "text/x-python",
   "name": "python",
   "nbconvert_exporter": "python",
   "pygments_lexer": "ipython3",
   "version": "3.11.5"
  }
 },
 "nbformat": 4,
 "nbformat_minor": 4
}
