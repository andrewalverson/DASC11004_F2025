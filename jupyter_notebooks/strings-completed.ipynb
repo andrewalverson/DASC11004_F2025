{
 "cells": [
  {
   "cell_type": "markdown",
   "metadata": {},
   "source": [
    "## Understanding `print()`\n",
    "\n",
    "  - THIS SECTION IS ALL ABOUT PRINTING"
   ]
  },
  {
   "cell_type": "code",
   "execution_count": null,
   "metadata": {
    "tags": []
   },
   "outputs": [],
   "source": [
    "# hello world\n"
   ]
  },
  {
   "cell_type": "markdown",
   "metadata": {},
   "source": [
    "### Printing quotation marks\n",
    "\n",
    "##### Write two print statements that give the following output:\n",
    "\n",
    "She said, 'hello world'\n",
    "\n",
    "She said, \"hello world\"\n"
   ]
  },
  {
   "cell_type": "code",
   "execution_count": null,
   "metadata": {
    "tags": []
   },
   "outputs": [],
   "source": []
  },
  {
   "cell_type": "markdown",
   "metadata": {},
   "source": [
    "### Store and print a variable"
   ]
  },
  {
   "cell_type": "code",
   "execution_count": null,
   "metadata": {
    "tags": []
   },
   "outputs": [],
   "source": [
    "# define some strings\n",
    "first = 'bob'\n",
    "last = ' dylan'\n",
    "\n",
    "# concatenate those strings\n",
    "\n",
    "\n",
    "# print the strings\n"
   ]
  },
  {
   "cell_type": "markdown",
   "metadata": {},
   "source": [
    "### Get the length of a string"
   ]
  },
  {
   "cell_type": "code",
   "execution_count": null,
   "metadata": {
    "tags": []
   },
   "outputs": [],
   "source": [
    "# the long (but readable) way\n",
    "\n",
    "\n",
    "# a more concise way to do it, functions within functions\n"
   ]
  },
  {
   "cell_type": "markdown",
   "metadata": {},
   "source": [
    "### Print strings and numbers"
   ]
  },
  {
   "cell_type": "code",
   "execution_count": null,
   "metadata": {
    "tags": []
   },
   "outputs": [],
   "source": [
    "# print strings and integers\n",
    "\n",
    "# print strings\n",
    "\n",
    "# formatted print\n"
   ]
  },
  {
   "cell_type": "markdown",
   "metadata": {},
   "source": [
    "### If x = 7 and y = \"7\", write two print statements to print \"77\" and \"14\" as the output"
   ]
  },
  {
   "cell_type": "code",
   "execution_count": null,
   "metadata": {},
   "outputs": [],
   "source": [
    "x = 7\n",
    "y = \"7\"\n"
   ]
  },
  {
   "cell_type": "markdown",
   "metadata": {},
   "source": [
    "## Some operations on strings"
   ]
  },
  {
   "cell_type": "code",
   "execution_count": null,
   "metadata": {
    "tags": []
   },
   "outputs": [],
   "source": [
    "# methods to change the case of a string\n"
   ]
  },
  {
   "cell_type": "markdown",
   "metadata": {},
   "source": [
    "### Problem #1: Write a program that asks for the user's name and age, then prints a personalized greeting using string formatting (`.format`).\n",
    "\n",
    "For *Andy* and *32*, the output would be:\n",
    "\n",
    "Hello, Andy! You are 32 years old.\n"
   ]
  },
  {
   "cell_type": "code",
   "execution_count": null,
   "metadata": {},
   "outputs": [],
   "source": [
    "# code here"
   ]
  },
  {
   "cell_type": "markdown",
   "metadata": {},
   "source": [
    "### Problem #2: Ask the user for the number of decimal places, then print the following output. If the user enters 3, the output will be: \n",
    "\n",
    "The value of pi is 3.142"
   ]
  },
  {
   "cell_type": "code",
   "execution_count": null,
   "metadata": {},
   "outputs": [],
   "source": [
    "import math\n"
   ]
  },
  {
   "cell_type": "markdown",
   "metadata": {},
   "source": [
    "### Problem #3: Ask the user for a big number. If the user enters 1000000 (one million), the output will be:\n",
    "\n",
    "This sure is a big number: 1,000,000\n",
    "\n",
    "This sure is a big number: 1.000000e+06"
   ]
  },
  {
   "cell_type": "code",
   "execution_count": null,
   "metadata": {},
   "outputs": [],
   "source": [
    "big_num = input()"
   ]
  },
  {
   "cell_type": "markdown",
   "metadata": {},
   "source": []
  },
  {
   "cell_type": "markdown",
   "metadata": {},
   "source": [
    "### Problem #4: Tip Calculator\n",
    "\n",
    "Ask the user for the bill amount (float) and tip percentage (integer). Calculate the tip and total, then print them neatly.\n",
    "\n",
    "Enter the bill amount: `42.75`\n",
    "\n",
    "Enter the tip percentage: `18`\n",
    "\n",
    "Bill: `$42.75`\n",
    "\n",
    "Tip (18%): `$7.70`\n",
    "\n",
    "\\--------------------\n",
    "\n",
    "Total: `$50.45`\n"
   ]
  },
  {
   "cell_type": "code",
   "execution_count": null,
   "metadata": {},
   "outputs": [],
   "source": []
  }
 ],
 "metadata": {
  "kernelspec": {
   "display_name": "Python 3 (ipykernel)",
   "language": "python",
   "name": "python3"
  },
  "language_info": {
   "codemirror_mode": {
    "name": "ipython",
    "version": 3
   },
   "file_extension": ".py",
   "mimetype": "text/x-python",
   "name": "python",
   "nbconvert_exporter": "python",
   "pygments_lexer": "ipython3",
   "version": "3.11.5"
  }
 },
 "nbformat": 4,
 "nbformat_minor": 4
}
