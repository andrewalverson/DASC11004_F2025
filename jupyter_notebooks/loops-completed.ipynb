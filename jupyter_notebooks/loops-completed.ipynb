{
 "cells": [
  {
   "cell_type": "markdown",
   "metadata": {},
   "source": [
    "## loops"
   ]
  },
  {
   "cell_type": "code",
   "execution_count": 2,
   "metadata": {},
   "outputs": [
    {
     "name": "stdout",
     "output_type": "stream",
     "text": [
      "<class 'list'>\n"
     ]
    }
   ],
   "source": [
    "# start fresh with new groups\n",
    "jackson5 = ['jackie', 'tito', 'jermaine', 'marlon', 'michael']\n",
    "destiny  = ['beyonce', 'kelly', 'michelle']\n",
    "top40    = ['taylorswift', 'postmalone']\n",
    "\n",
    "# what type is jackson5\n",
    "print(type(destiny))"
   ]
  },
  {
   "cell_type": "markdown",
   "metadata": {},
   "source": [
    "## `append()` adds a single item"
   ]
  },
  {
   "cell_type": "code",
   "execution_count": 3,
   "metadata": {
    "tags": []
   },
   "outputs": [
    {
     "name": "stdout",
     "output_type": "stream",
     "text": [
      "['beyonce', 'kelly', 'michelle', ['george', 'paul', 'ringo', 'john']]\n"
     ]
    }
   ],
   "source": [
    "# use `append()` to add some old men\n",
    "destiny.append(['george', 'paul', 'ringo', 'john'])\n",
    "print(destiny)"
   ]
  },
  {
   "cell_type": "code",
   "execution_count": 6,
   "metadata": {
    "tags": []
   },
   "outputs": [
    {
     "name": "stdout",
     "output_type": "stream",
     "text": [
      "Ringo\n"
     ]
    }
   ],
   "source": [
    "# find and print Ringo, who is buried in a list within a list\n",
    "print(destiny[3][2].capitalize())\n"
   ]
  },
  {
   "cell_type": "markdown",
   "metadata": {},
   "source": [
    "## looping over a list"
   ]
  },
  {
   "cell_type": "code",
   "execution_count": 15,
   "metadata": {
    "tags": []
   },
   "outputs": [
    {
     "name": "stdout",
     "output_type": "stream",
     "text": [
      "beyonce\n",
      "kelly\n",
      "michelle\n",
      "['george', 'paul', 'ringo', 'john']\n"
     ]
    }
   ],
   "source": [
    "# loop over 'destiny'\n",
    "for i in destiny:\n",
    "    print(i)"
   ]
  },
  {
   "cell_type": "markdown",
   "metadata": {},
   "source": [
    "## checking the `type()`"
   ]
  },
  {
   "cell_type": "code",
   "execution_count": 16,
   "metadata": {},
   "outputs": [
    {
     "name": "stdout",
     "output_type": "stream",
     "text": [
      "<class 'str'>\n",
      "<class 'list'>\n"
     ]
    }
   ],
   "source": [
    "# what is destiny[1]? destiny[3]?\n",
    "print(type(destiny[1]))\n",
    "print(type(destiny[3]))"
   ]
  },
  {
   "cell_type": "markdown",
   "metadata": {},
   "source": [
    "## loop over a list within a list"
   ]
  },
  {
   "cell_type": "code",
   "execution_count": 17,
   "metadata": {
    "tags": []
   },
   "outputs": [
    {
     "name": "stdout",
     "output_type": "stream",
     "text": [
      "george\n",
      "paul\n",
      "ringo\n",
      "john\n"
     ]
    }
   ],
   "source": [
    "# loop over the old guys in 'destiny'\n",
    "for beatle in destiny[3]:\n",
    "    print(beatle)\n"
   ]
  },
  {
   "cell_type": "markdown",
   "metadata": {},
   "source": [
    "## introducing a test"
   ]
  },
  {
   "cell_type": "code",
   "execution_count": 19,
   "metadata": {
    "tags": []
   },
   "outputs": [
    {
     "name": "stdout",
     "output_type": "stream",
     "text": [
      "It's a string\n",
      "It's a string\n",
      "It's a string\n",
      "I found a list\n"
     ]
    }
   ],
   "source": [
    "# what type of variable is this anyway?\n",
    "for i in destiny:\n",
    "    if(type(i) is list):\n",
    "        print(\"I found a list\")\n",
    "    else:\n",
    "        print(\"It's a string\")\n"
   ]
  },
  {
   "cell_type": "markdown",
   "metadata": {},
   "source": [
    "## executing a nested `for` loop"
   ]
  },
  {
   "cell_type": "code",
   "execution_count": 28,
   "metadata": {
    "tags": []
   },
   "outputs": [
    {
     "name": "stdout",
     "output_type": "stream",
     "text": [
      "diva number 1 is beyonce\n",
      "diva number 2 is kelly\n",
      "diva number 3 is michelle\n",
      "beatle number 1 is george\n",
      "beatle number 2 is paul\n",
      "beatle number 3 is ringo\n",
      "beatle number 4 is john\n",
      "The total number of members in Destiny's Child is 7\n"
     ]
    }
   ],
   "source": [
    "# loop within a loop\n",
    "# make some counters\n",
    "i = 0   # beatle counter\n",
    "j = 0   # diva counter\n",
    "\n",
    "\n",
    "for x in destiny:\n",
    "    if type(x) is list:\n",
    "        for beatle in x:\n",
    "            i = i + 1\n",
    "            print(f\"beatle number {i} is {beatle}\")\n",
    "    else:\n",
    "        j += 1\n",
    "        print(f\"diva number {j} is {x}\")\n",
    "\n",
    "print(f\"The total number of members in Destiny's Child is {i + j}\")"
   ]
  },
  {
   "cell_type": "markdown",
   "metadata": {},
   "source": [
    "### retrieve the index _and_ the value with `enumerate()`"
   ]
  },
  {
   "cell_type": "code",
   "execution_count": 31,
   "metadata": {
    "tags": []
   },
   "outputs": [
    {
     "name": "stdout",
     "output_type": "stream",
     "text": [
      "President number 1 is/was: George Washington\n",
      "President number 2 is/was: John Adams\n",
      "President number 3 is/was: Thomas Jefferson\n",
      "President number 4 is/was: James Madison\n",
      "President number 5 is/was: James Monroe\n",
      "President number 6 is/was: John Quincy Adams\n",
      "President number 7 is/was: Andrew Jackson\n",
      "President number 8 is/was: Martin Van Buren\n",
      "President number 9 is/was: William Henry Harrison\n",
      "President number 10 is/was: John Tyler\n",
      "President number 11 is/was: James Knox Polk\n",
      "President number 12 is/was: Zachary Taylor\n",
      "President number 13 is/was: Millard Fillmore\n",
      "President number 14 is/was: Franklin Pierce\n",
      "President number 15 is/was: James Buchanan\n",
      "President number 16 is/was: Abraham Lincoln\n",
      "President number 17 is/was: Andrew Johnson\n",
      "President number 18 is/was: Ulysses S. Grant\n",
      "President number 19 is/was: Rutherford Birchard Hayes\n",
      "President number 20 is/was: James Abram Garfield\n",
      "President number 21 is/was: Chester Alan Arthur\n",
      "President number 22 is/was: Grover Cleveland\n",
      "President number 23 is/was: Benjamin Harrison\n",
      "President number 24 is/was: Grover Cleveland\n",
      "President number 25 is/was: William McKinley\n",
      "President number 26 is/was: Theodore Roosevelt\n",
      "President number 27 is/was: William Howard Taft\n",
      "President number 28 is/was: Woodrow Wilson\n",
      "President number 29 is/was: Warren Gamaliel Harding\n",
      "President number 30 is/was: Calvin Coolidge\n",
      "President number 31 is/was: Herbert Clark Hoover\n",
      "President number 32 is/was: Franklin Delano Roosevelt\n",
      "President number 33 is/was: Harry S. Truman\n",
      "President number 34 is/was: Dwight David Eisenhower\n",
      "President number 35 is/was: John Fitzgerald Kennedy\n",
      "President number 36 is/was: Lyndon Baines Johnson\n",
      "President number 37 is/was: Richard Milhous Nixon\n",
      "President number 38 is/was: Gerald Rudolph Ford\n",
      "President number 39 is/was: James Earl Carter Jr.\n",
      "President number 40 is/was: Ronald Wilson Reagan\n",
      "President number 41 is/was: George Herbert Walker Bush\n",
      "President number 42 is/was: William Jefferson Clinton\n",
      "President number 43 is/was: George Walker Bush\n",
      "President number 44 is/was: Barack Hussein Obama\n",
      "President number 45 is/was: Donald Trump\n",
      "President number 46 is/was: Joe Biden\n",
      "President number 47 is/was: Donald Trump\n"
     ]
    }
   ],
   "source": [
    "# lots of flexibility with enumerate()\n",
    "presidents = [\"George Washington\", \"John Adams\", \"Thomas Jefferson\", \"James Madison\", \"James Monroe\", \"John Quincy Adams\", \"Andrew Jackson\", \"Martin Van Buren\", \"William Henry Harrison\", \"John Tyler\", \"James Knox Polk\", \"Zachary Taylor\", \"Millard Fillmore\", \"Franklin Pierce\", \"James Buchanan\", \"Abraham Lincoln\", \"Andrew Johnson\", \"Ulysses S. Grant\", \"Rutherford Birchard Hayes\", \"James Abram Garfield\", \"Chester Alan Arthur\", \"Grover Cleveland\", \"Benjamin Harrison\", \"Grover Cleveland\", \"William McKinley\", \"Theodore Roosevelt\", \"William Howard Taft\", \"Woodrow Wilson\", \"Warren Gamaliel Harding\", \"Calvin Coolidge\", \"Herbert Clark Hoover\", \"Franklin Delano Roosevelt\", \"Harry S. Truman\", \"Dwight David Eisenhower\", \"John Fitzgerald Kennedy\", \"Lyndon Baines Johnson\", \"Richard Milhous Nixon\", \"Gerald Rudolph Ford\", \"James Earl Carter Jr.\", \"Ronald Wilson Reagan\", \"George Herbert Walker Bush\", \"William Jefferson Clinton\", \"George Walker Bush\", \"Barack Hussein Obama\", \"Donald Trump\", \"Joe Biden\", \"Donald Trump\"]\n",
    "for num, name in enumerate(presidents):\n",
    "    print(f\"President number {num+1} is/was: {name}\")\n"
   ]
  },
  {
   "cell_type": "markdown",
   "metadata": {},
   "source": [
    "## loop over a string"
   ]
  },
  {
   "cell_type": "code",
   "execution_count": 39,
   "metadata": {
    "tags": []
   },
   "outputs": [
    {
     "name": "stdout",
     "output_type": "stream",
     "text": [
      "solution 1:\n",
      "i\n",
      "a\n",
      "solution 2:\n",
      "i\n",
      "a\n",
      "solution 3:\n",
      "i\n",
      "a\n"
     ]
    }
   ],
   "source": [
    "#today = input(\"Enter the day of the week: \")\n",
    "\n",
    "today = \"FrIday\"\n",
    "\n",
    "print(\"solution 1:\")\n",
    "\n",
    "# solution #1 #\n",
    "vowels = \"aeiou\"\n",
    "for letter in today:\n",
    "    if letter.lower() in vowels:\n",
    "        print(letter.lower())\n",
    "\n",
    "today = \"FrIday\"\n",
    "today = today.lower()\n",
    "\n",
    "print(\"solution 2:\")\n",
    "\n",
    "# solution #2 #\n",
    "vowels = \"aeiou\"\n",
    "for letter in today:\n",
    "    if letter in vowels:\n",
    "        print(letter)\n",
    "\n",
    "print(\"solution 3:\")\n",
    "\n",
    "# solution #3 #\n",
    "vowels = \"aeiouAEIOU\"\n",
    "for letter in today:\n",
    "    if letter in vowels:\n",
    "        print(letter)\n",
    "\n",
    "\n"
   ]
  },
  {
   "cell_type": "code",
   "execution_count": null,
   "metadata": {},
   "outputs": [],
   "source": []
  }
 ],
 "metadata": {
  "kernelspec": {
   "display_name": "Python 3",
   "language": "python",
   "name": "python3"
  },
  "language_info": {
   "codemirror_mode": {
    "name": "ipython",
    "version": 3
   },
   "file_extension": ".py",
   "mimetype": "text/x-python",
   "name": "python",
   "nbconvert_exporter": "python",
   "pygments_lexer": "ipython3",
   "version": "3.11.5"
  }
 },
 "nbformat": 4,
 "nbformat_minor": 2
}
