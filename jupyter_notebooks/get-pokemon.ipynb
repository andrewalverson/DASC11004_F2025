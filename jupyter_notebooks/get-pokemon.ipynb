{
 "cells": [
  {
   "cell_type": "code",
   "execution_count": 6,
   "id": "d3af7abb",
   "metadata": {},
   "outputs": [],
   "source": [
    "import requests"
   ]
  },
  {
   "cell_type": "code",
   "execution_count": 7,
   "id": "09927d14",
   "metadata": {},
   "outputs": [],
   "source": [
    "# ask the user for a pokemon name\n",
    "pokemon = input(\"Enter a Pokémon name: \").lower()"
   ]
  },
  {
   "cell_type": "code",
   "execution_count": 8,
   "id": "6beba96c",
   "metadata": {},
   "outputs": [
    {
     "name": "stdout",
     "output_type": "stream",
     "text": [
      "Name: Pikachu\n",
      "ID: 25\n",
      "Height: 4\n",
      "Weight: 60\n"
     ]
    }
   ],
   "source": [
    "# fetch data from the public PokeAPI\n",
    "url = f\"https://pokeapi.co/api/v2/pokemon/{pokemon}\"\n",
    "response = requests.get(url)\n",
    "\n",
    "if response.status_code == 200:\n",
    "    data = response.json()\n",
    "    print(f\"Name: {data['name'].title()}\")\n",
    "    print(f\"ID: {data['id']}\")\n",
    "    print(f\"Height: {data['height']}\")\n",
    "    print(f\"Weight: {data['weight']}\")\n",
    "else:\n",
    "    print(\"That Pokémon was not found.\")"
   ]
  }
 ],
 "metadata": {
  "kernelspec": {
   "display_name": "Python 3",
   "language": "python",
   "name": "python3"
  },
  "language_info": {
   "codemirror_mode": {
    "name": "ipython",
    "version": 3
   },
   "file_extension": ".py",
   "mimetype": "text/x-python",
   "name": "python",
   "nbconvert_exporter": "python",
   "pygments_lexer": "ipython3",
   "version": "3.11.5"
  }
 },
 "nbformat": 4,
 "nbformat_minor": 5
}
